{
 "cells": [
  {
   "cell_type": "markdown",
   "metadata": {},
   "source": [
    "# Training and testing with different classifiers\n",
    "\n",
    "This notebook contains code to apply different ml models to the pre-processed recipe-ingredient dataset. For pre-processing, check the other notebook."
   ]
  },
  {
   "cell_type": "code",
   "execution_count": 2,
   "metadata": {},
   "outputs": [],
   "source": [
    "import pandas as pd\n",
    "import matplotlib.pyplot as plt\n",
    "import seaborn as sns\n",
    "import string\n",
    "from nltk import WordNetLemmatizer\n",
    "import inflect"
   ]
  },
  {
   "cell_type": "markdown",
   "metadata": {},
   "source": [
    "Loading the dataset based on understanding of previous EDA.\n",
    "Lemmatizing instead of stemming to preserve context - in terms of recipe, baked potatoes (potatoes that are already baked) vs baking potatoes (a variety of potatoes) are different. Stemming would result in both 'baked' and 'baking' being converted to 'bake' which is incorrect whereas lemmatizing preserves the terms.\n",
    "\n",
    "Using inflect to remove plural forms (since baked potato and baked potatoes do need to be the considered the 'same')."
   ]
  },
  {
   "cell_type": "code",
   "execution_count": 3,
   "metadata": {},
   "outputs": [
    {
     "name": "stdout",
     "output_type": "stream",
     "text": [
      "      id      cuisine                                        ingredients  \\\n",
      "0  10259        greek  [romaine lettuce, black olives, grape tomatoes...   \n",
      "1  25693  southern_us  [plain flour, ground pepper, salt, tomatoes, g...   \n",
      "2  20130     filipino  [eggs, pepper, salt, mayonaise, cooking oil, g...   \n",
      "3  22213       indian                [water, vegetable oil, wheat, salt]   \n",
      "4  13162       indian  [black pepper, shallots, cornflour, cayenne pe...   \n",
      "5   6602     jamaican  [plain flour, sugar, butter, eggs, fresh ginge...   \n",
      "6  42779      spanish  [olive oil, salt, medium shrimp, pepper, garli...   \n",
      "7   3735      italian  [sugar, pistachio nuts, white almond bark, flo...   \n",
      "8  16903      mexican  [olive oil, purple onion, fresh pineapple, por...   \n",
      "9  12734      italian  [chopped tomatoes, fresh basil, garlic, extra-...   \n",
      "\n",
      "                               ingredients_formatted  \n",
      "0  romaine lettuce, black olive, grape tomato, ga...  \n",
      "1  plain flour, ground pepper, salt, tomato, grou...  \n",
      "2  egg, pepper, salt, mayonaise, cooking oil, gre...  \n",
      "3                  water, vegetable oil, wheat, salt  \n",
      "4  black pepper, shallot, cornflour, cayenne pepp...  \n",
      "5  plain flour, sugar, butter, egg, fresh ginger ...  \n",
      "6  olive oil, salt, medium shrimp, pepper, garlic...  \n",
      "7  sugar, pistachio nut, white almond bark, flour...  \n",
      "8  olive oil, purple onion, fresh pineapple, pork...  \n",
      "9  chopped tomato, fresh basil, garlic, extra-vir...  \n"
     ]
    }
   ],
   "source": [
    "df = pd.read_json('dataset.json')\n",
    "\n",
    "wn = WordNetLemmatizer() # lemmatizing instead of stemming to preserve context\n",
    "p = inflect.engine() # to change to singular instead of stemming\n",
    "\n",
    "def format_ingredients(ingredient_list):\n",
    "    formatted = [ing.strip().lower() for ing in ingredient_list]\n",
    "    singular = [p.singular_noun(ing) or ing for ing in formatted]\n",
    "    lemmatized = [wn.lemmatize(ing) for ing in singular]\n",
    "    return (', '.join(lemmatized))\n",
    "\n",
    "df['ingredients_formatted'] = df['ingredients'].apply(lambda x: format_ingredients(x))\n",
    "print(df.head(10))"
   ]
  },
  {
   "cell_type": "markdown",
   "metadata": {},
   "source": [
    "### Vectorizing\n",
    "\n",
    "The ingredient list is already tokenized (as an array of ingredients), but needs to be vectorized (i.e. encoded so as to be able to create feature vectors for the machine learning algorithms to train/test)\n",
    "\n",
    "\n",
    "There are three main forms of vectorizing for NLP:\n",
    "* Bag-of-words - creates a 'bag of words' with a document matrix count with 1 if present and 0 if not. Not very suitable/efficient in terms of storage/accessibility since there are 6000+ types of ingredients as evidenced by EDA.\n",
    "* N-grams - combinations of adjacent words, not useful in this context since there are unique clusters already.\n",
    "* TF-IDF - Computer 'relative frequency', useful for identifying important words, or in our case key ingredients that could potentially identify the type of cuisine. \n",
    "\n",
    "Apply TF-IDF vectorization on the dataset."
   ]
  },
  {
   "cell_type": "code",
   "execution_count": 4,
   "metadata": {},
   "outputs": [
    {
     "name": "stdout",
     "output_type": "stream",
     "text": [
      "(39774, 747018)\n"
     ]
    }
   ],
   "source": [
    "from sklearn.feature_extraction.text import TfidfVectorizer\n",
    "\n",
    "tfidf = TfidfVectorizer(stop_words='english', ngram_range=(1,4), analyzer='word', max_df=0.8, token_pattern=r'\\w+')\n",
    "x_tfidf = tfidf.fit_transform(df['ingredients_formatted'])\n",
    "print(x_tfidf.shape)"
   ]
  },
  {
   "cell_type": "code",
   "execution_count": 5,
   "metadata": {},
   "outputs": [
    {
     "name": "stdout",
     "output_type": "stream",
     "text": [
      "     K  Training   Testing\n",
      "0    1  0.999899  0.545756\n",
      "1    2  0.767717  0.522124\n",
      "2    3  0.759906  0.572104\n",
      "3    4  0.750955  0.593323\n",
      "4    5  0.743580  0.608307\n",
      "5    6  0.734898  0.619570\n",
      "6    7  0.726819  0.627112\n",
      "7    8  0.720986  0.630933\n",
      "8    9  0.717231  0.633045\n",
      "9   10  0.712437  0.641593\n",
      "10  11  0.709923  0.643302\n",
      "11  12  0.708079  0.647828\n",
      "12  13  0.704794  0.646521\n",
      "13  14  0.701643  0.649739\n",
      "14  15  0.702112  0.648833\n",
      "15  16  0.698525  0.650342\n",
      "16  17  0.697586  0.649739\n",
      "17  18  0.695441  0.650141\n",
      "18  19  0.694066  0.650744\n",
      "19  20  0.693128  0.649839\n"
     ]
    }
   ],
   "source": [
    "from sklearn.model_selection import train_test_split\n",
    "from sklearn.neighbors import KNeighborsClassifier\n",
    "from sklearn.metrics import f1_score, plot_confusion_matrix\n",
    "\n",
    "x_train, x_test, y_train, y_test = train_test_split(x_tfidf, df['cuisine'], random_state=42)\n",
    "\n",
    "# clf = KNeighborsClassifier()\n",
    "# clf.fit(x_train, y_train)\n",
    "# print(f'Training >> {clf.score(x_train, y_train)}') #74.35\n",
    "# print(f'Testing >> {clf.score(x_test, y_test)}') #60.8\n",
    "scores = []\n",
    "for i in range(1,21):\n",
    "    clf = KNeighborsClassifier(i)\n",
    "    clf.fit(x_train, y_train)\n",
    "    scores.append([i, clf.score(x_train, y_train), clf.score(x_test, y_test)])\n",
    "\n",
    "score_df = pd.DataFrame(scores, columns=['K', 'Training', 'Testing'])\n",
    "print(score_df)"
   ]
  },
  {
   "cell_type": "code",
   "execution_count": 6,
   "metadata": {},
   "outputs": [
    {
     "data": {
      "image/png": "[encoded data removed]",
      "text/plain": [
       "<Figure size 432x288 with 1 Axes>"
      ]
     },
     "metadata": {
      "needs_background": "light"
     },
     "output_type": "display_data"
    }
   ],
   "source": [
    "plt.plot(range(1,21), score_df['Training'], label='Training score')\n",
    "plt.plot(range(1,21), score_df['Testing'], label='Testing score')\n",
    "plt.ylabel('Accuracy')\n",
    "plt.xlabel('Num neigbours')\n",
    "plt.legend()\n",
    "plt.savefig('SS_for_report/KNN_choosing_k.png')"
   ]
  },
  {
   "cell_type": "code",
   "execution_count": 7,
   "metadata": {},
   "outputs": [
    {
     "name": "stdout",
     "output_type": "stream",
     "text": [
      "     K  Training   Testing\n",
      "0    5  0.743580  0.608307\n",
      "1    6  0.734898  0.619570\n",
      "2    7  0.726819  0.627112\n",
      "3    8  0.720986  0.630933\n",
      "4    9  0.717231  0.633045\n",
      "5   10  0.712437  0.641593\n",
      "6   11  0.709923  0.643302\n",
      "7   12  0.708079  0.647828\n",
      "8   13  0.704794  0.646521\n",
      "9   14  0.701643  0.649739\n",
      "10  15  0.702112  0.648833\n",
      "11  16  0.698525  0.650342\n",
      "12  17  0.697586  0.649739\n",
      "13  18  0.695441  0.650141\n",
      "14  19  0.694066  0.650744\n",
      "15  20  0.693128  0.649839\n",
      "16  21  0.692457  0.651247\n",
      "17  22  0.691116  0.651649\n",
      "18  23  0.690077  0.652957\n",
      "19  24  0.688300  0.653057\n"
     ]
    },
    {
     "data": {
      "image/png": "[encoded data removed]",
      "text/plain": [
       "<Figure size 432x288 with 1 Axes>"
      ]
     },
     "metadata": {
      "needs_background": "light"
     },
     "output_type": "display_data"
    }
   ],
   "source": [
    "\n",
    "# clf = KNeighborsClassifier()\n",
    "# clf.fit(x_train, y_train)\n",
    "# print(f'Training >> {clf.score(x_train, y_train)}') #74.35\n",
    "# print(f'Testing >> {clf.score(x_test, y_test)}') #60.8\n",
    "scores = []\n",
    "for i in range(5,25):\n",
    "    clf = KNeighborsClassifier(i)\n",
    "    clf.fit(x_train, y_train)\n",
    "    scores.append([i, clf.score(x_train, y_train), clf.score(x_test, y_test)])\n",
    "\n",
    "score_df = pd.DataFrame(scores, columns=['K', 'Training', 'Testing'])\n",
    "print(score_df)\n",
    "\n",
    "plt.plot(range(5,25), score_df['Training'], label='Training score')\n",
    "plt.plot(range(5,25), score_df['Testing'], label='Testing score')\n",
    "plt.ylabel('Accuracy')\n",
    "plt.xlabel('Num neigbours')\n",
    "plt.legend()\n",
    "plt.savefig('SS_for_report/KNN_choosing_k.png')"
   ]
  }
 ],
 "metadata": {
  "interpreter": {
   "hash": "ad4efc98168ab38b08e64aa2fc02055880fa9a8646a17501f53b605319231c71"
  },
  "kernelspec": {
   "display_name": "Python 3.8.8 ('base')",
   "language": "python",
   "name": "python3"
  },
  "language_info": {
   "codemirror_mode": {
    "name": "ipython",
    "version": 3
   },
   "file_extension": ".py",
   "mimetype": "text/x-python",
   "name": "python",
   "nbconvert_exporter": "python",
   "pygments_lexer": "ipython3",
   "version": "3.8.8"
  },
  "orig_nbformat": 4
 },
 "nbformat": 4,
 "nbformat_minor": 2
}
