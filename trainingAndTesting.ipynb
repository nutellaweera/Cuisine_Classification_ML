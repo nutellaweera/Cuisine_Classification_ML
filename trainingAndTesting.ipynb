{
 "cells": [
  {
   "cell_type": "markdown",
   "metadata": {},
   "source": [
    "# Training and testing with different classifiers\n",
    "\n",
    "This notebook contains code to apply different ml models to the pre-processed recipe-ingredient dataset. For pre-processing, check the other notebook."
   ]
  },
  {
   "cell_type": "code",
   "execution_count": 1,
   "metadata": {},
   "outputs": [],
   "source": [
    "import pandas as pd\n",
    "import matplotlib.pyplot as plt\n",
    "import seaborn as sns\n",
    "import string\n",
    "from nltk import WordNetLemmatizer\n",
    "import inflect"
   ]
  },
  {
   "cell_type": "code",
   "execution_count": 2,
   "metadata": {},
   "outputs": [],
   "source": [
    "# Read the dataset\n",
    "df = pd.read_json('dataset.json')"
   ]
  },
  {
   "cell_type": "markdown",
   "metadata": {},
   "source": [
    "Loading the dataset and pre-processing based on understanding of previous EDA.\n",
    "1. Converting text into lowercase\n",
    "2. Removing leading and trailing whitespace\n",
    "3. Removing punctuation, numbers and special characters\n",
    "4. Replacing plural words with singular versions\n",
    "5. Lemmatizing the words"
   ]
  },
  {
   "cell_type": "code",
   "execution_count": 3,
   "metadata": {},
   "outputs": [
    {
     "name": "stdout",
     "output_type": "stream",
     "text": [
      "      id      cuisine                                        ingredients  \\\n",
      "0  10259        greek  [romaine lettuce, black olives, grape tomatoes...   \n",
      "1  25693  southern_us  [plain flour, ground pepper, salt, tomatoes, g...   \n",
      "2  20130     filipino  [eggs, pepper, salt, mayonaise, cooking oil, g...   \n",
      "3  22213       indian                [water, vegetable oil, wheat, salt]   \n",
      "4  13162       indian  [black pepper, shallots, cornflour, cayenne pe...   \n",
      "5   6602     jamaican  [plain flour, sugar, butter, eggs, fresh ginge...   \n",
      "6  42779      spanish  [olive oil, salt, medium shrimp, pepper, garli...   \n",
      "7   3735      italian  [sugar, pistachio nuts, white almond bark, flo...   \n",
      "8  16903      mexican  [olive oil, purple onion, fresh pineapple, por...   \n",
      "9  12734      italian  [chopped tomatoes, fresh basil, garlic, extra-...   \n",
      "\n",
      "                               ingredients_formatted  \n",
      "0  romainelettuce, blackolife, grapetomato, garli...  \n",
      "1  plainflour, groundpepper, salt, tomato, ground...  \n",
      "2  egg, pepper, salt, mayonaise, cookingoil, gree...  \n",
      "3                   water, vegetableoil, wheat, salt  \n",
      "4  blackpepper, shallot, cornflour, cayennepepper...  \n",
      "5  plainflour, sugar, butter, egg, freshgingerroo...  \n",
      "6  oliveoil, salt, mediumshrimp, pepper, garlic, ...  \n",
      "7  sugar, pistachionut, whitealmondbark, flour, v...  \n",
      "8  oliveoil, purpleonion, freshpineapple, pork, p...  \n",
      "9  choppedtomato, freshbasil, garlic, extravirgin...  \n"
     ]
    }
   ],
   "source": [
    "wn = WordNetLemmatizer() # lemmatizing instead of stemming to preserve context\n",
    "p = inflect.engine() # to change to singular instead of stemming\n",
    "\n",
    "def format_ingredients(ingredient_list):\n",
    "    formatted = [ing.strip().lower() for ing in ingredient_list]\n",
    "    alpha = [(''.join(char for char in ing if char.isalpha())) for ing in formatted]\n",
    "    singular = [p.singular_noun(ing) or ing for ing in alpha]\n",
    "    lemmatized = [wn.lemmatize(ing) for ing in singular]\n",
    "    return (', '.join(lemmatized))\n",
    "\n",
    "df['ingredients_formatted'] = df['ingredients'].apply(lambda x: format_ingredients(x))\n",
    "print(df.head(10))"
   ]
  },
  {
   "cell_type": "markdown",
   "metadata": {},
   "source": [
    "### Vectorizing\n",
    "\n",
    "The ingredient list is already tokenized (as an array of ingredients), but needs to be vectorized (i.e. encoded so as to be able to create feature vectors for the machine learning algorithms to train/test)\n",
    "\n",
    "Apply TF-IDF vectorization on the dataset, and transform it to a dense matrix."
   ]
  },
  {
   "cell_type": "code",
   "execution_count": 4,
   "metadata": {},
   "outputs": [
    {
     "name": "stdout",
     "output_type": "stream",
     "text": [
      "(39774, 6636)\n"
     ]
    }
   ],
   "source": [
    "from sklearn.feature_extraction.text import TfidfVectorizer\n",
    "\n",
    "tfidf = TfidfVectorizer(stop_words='english', analyzer='word', max_df=0.8, token_pattern=r'\\w+')\n",
    "x_tfidf = tfidf.fit_transform(df['ingredients_formatted'])\n",
    "print(x_tfidf.shape)"
   ]
  },
  {
   "cell_type": "markdown",
   "metadata": {},
   "source": [
    "K-means with the real number of 'neigbours' (20 - types of cuisines in the dataset)"
   ]
  },
  {
   "cell_type": "code",
   "execution_count": 7,
   "metadata": {},
   "outputs": [
    {
     "name": "stdout",
     "output_type": "stream",
     "text": [
      "    K  Training   Testing\n",
      "0   5  0.746463  0.609312\n",
      "1  10  0.737546  0.659393\n",
      "2  15  0.731948  0.675583\n",
      "3  20  0.728294  0.680209\n"
     ]
    }
   ],
   "source": [
    "from sklearn.model_selection import train_test_split\n",
    "from sklearn.neighbors import KNeighborsClassifier\n",
    "from sklearn.metrics import f1_score, plot_confusion_matrix\n",
    "\n",
    "x_train, x_test, y_train, y_test = train_test_split(x_tfidf, df['cuisine'], random_state=42)\n",
    "\n",
    "# clf = KNeighborsClassifier()\n",
    "# clf.fit(x_train, y_train)\n",
    "# print(f'Training >> {clf.score(x_train, y_train)}') #74.35\n",
    "# print(f'Testing >> {clf.score(x_test, y_test)}') #60.8\n",
    "scores = []\n",
    "for i in range(5,25,5): # 5 to 25 in steps of 5 \n",
    "    clf = KNeighborsClassifier(i)\n",
    "    clf.fit(x_train, y_train)\n",
    "    scores.append([i, clf.score(x_train, y_train), clf.score(x_test, y_test)])\n",
    "\n",
    "score_df = pd.DataFrame(scores, columns=['K', 'Training', 'Testing'])\n",
    "print(score_df)"
   ]
  },
  {
   "cell_type": "code",
   "execution_count": 23,
   "metadata": {},
   "outputs": [
    {
     "data": {
      "image/png": "[encoded data removed]",
      "text/plain": [
       "<Figure size 432x288 with 1 Axes>"
      ]
     },
     "metadata": {
      "needs_background": "light"
     },
     "output_type": "display_data"
    }
   ],
   "source": [
    "plt.plot(range(5,25,5), score_df['Training'], label='Training score')\n",
    "plt.plot(range(5,25,5), score_df['Testing'], label='Testing score')\n",
    "plt.ylabel('Accuracy')\n",
    "plt.xlabel('Num neigbours')\n",
    "plt.legend()\n",
    "plt.savefig('graphs_and_vis/KNN_choosing_k.png')"
   ]
  },
  {
   "cell_type": "code",
   "execution_count": 11,
   "metadata": {},
   "outputs": [],
   "source": [
    "\n",
    "from sklearn.naive_bayes import MultinomialNB\n",
    "from sklearn.neighbors import KNeighborsClassifier\n",
    "from sklearn.linear_model import LogisticRegression\n",
    "from sklearn.svm import SVC\n",
    "from sklearn.ensemble import RandomForestClassifier\n",
    "from sklearn import tree\n",
    "from sklearn.feature_selection import SelectFromModel\n",
    "from sklearn.model_selection import KFold\n",
    "from sklearn.model_selection import cross_val_score\n",
    "from sklearn.model_selection import cross_val_predict\n",
    "from sklearn.model_selection import train_test_split\n",
    "from sklearn.metrics import roc_curve"
   ]
  },
  {
   "cell_type": "code",
   "execution_count": 14,
   "metadata": {},
   "outputs": [
    {
     "name": "stderr",
     "output_type": "stream",
     "text": [
      "/Users/sunellauni/opt/anaconda3/lib/python3.8/site-packages/sklearn/linear_model/_logistic.py:814: ConvergenceWarning: lbfgs failed to converge (status=1):\n",
      "STOP: TOTAL NO. of ITERATIONS REACHED LIMIT.\n",
      "\n",
      "Increase the number of iterations (max_iter) or scale the data as shown in:\n",
      "    https://scikit-learn.org/stable/modules/preprocessing.html\n",
      "Please also refer to the documentation for alternative solver options:\n",
      "    https://scikit-learn.org/stable/modules/linear_model.html#logistic-regression\n",
      "  n_iter_i = _check_optimize_result(\n",
      "/Users/sunellauni/opt/anaconda3/lib/python3.8/site-packages/sklearn/linear_model/_logistic.py:814: ConvergenceWarning: lbfgs failed to converge (status=1):\n",
      "STOP: TOTAL NO. of ITERATIONS REACHED LIMIT.\n",
      "\n",
      "Increase the number of iterations (max_iter) or scale the data as shown in:\n",
      "    https://scikit-learn.org/stable/modules/preprocessing.html\n",
      "Please also refer to the documentation for alternative solver options:\n",
      "    https://scikit-learn.org/stable/modules/linear_model.html#logistic-regression\n",
      "  n_iter_i = _check_optimize_result(\n",
      "/Users/sunellauni/opt/anaconda3/lib/python3.8/site-packages/sklearn/linear_model/_logistic.py:814: ConvergenceWarning: lbfgs failed to converge (status=1):\n",
      "STOP: TOTAL NO. of ITERATIONS REACHED LIMIT.\n",
      "\n",
      "Increase the number of iterations (max_iter) or scale the data as shown in:\n",
      "    https://scikit-learn.org/stable/modules/preprocessing.html\n",
      "Please also refer to the documentation for alternative solver options:\n",
      "    https://scikit-learn.org/stable/modules/linear_model.html#logistic-regression\n",
      "  n_iter_i = _check_optimize_result(\n"
     ]
    },
    {
     "name": "stdout",
     "output_type": "stream",
     "text": [
      "[('KNN', array([0.67699115, 0.67524892, 0.66770592])), ('LogisticRegression', array([0.63012872, 0.61198833, 0.61047973])), ('NaiveBayes', array([0.47264682, 0.46605652, 0.44523786])), ('DecisionTree', array([0.56928801, 0.56854068, 0.56270743])), ('RandomForest', array([0.66039823, 0.6505079 , 0.64135573])), ('SVM', array([0.59422767, 0.57678769, 0.5677361 ]))]\n"
     ]
    }
   ],
   "source": [
    "models = [\n",
    "    ('KNN', KNeighborsClassifier(n_neighbors=20)),\n",
    "    ('LogisticRegression', LogisticRegression()),\n",
    "    ('NaiveBayes', MultinomialNB()),\n",
    "    ('DecisionTree', tree.DecisionTreeClassifier()),\n",
    "    ('RandomForest', RandomForestClassifier(min_samples_split=5)),\n",
    "    ('SVM', SVC())\n",
    "]\n",
    "\n",
    "results = []\n",
    "for name, model in models:\n",
    "    kfold = KFold(n_splits=3, shuffle=True, random_state=42)\n",
    "    results.append((name, cross_val_score(model, x_train, y_train, cv=kfold, scoring='accuracy')))\n",
    "\n",
    "print(results)\n",
    "\n",
    "\n"
   ]
  },
  {
   "cell_type": "code",
   "execution_count": 17,
   "metadata": {},
   "outputs": [
    {
     "name": "stdout",
     "output_type": "stream",
     "text": [
      "(29830, 787775)\n"
     ]
    }
   ],
   "source": [
    "print(x_train.shape)"
   ]
  },
  {
   "cell_type": "code",
   "execution_count": 18,
   "metadata": {},
   "outputs": [
    {
     "name": "stdout",
     "output_type": "stream",
     "text": [
      "0.6711029165269863\n",
      "0.6682421560740145\n"
     ]
    }
   ],
   "source": [
    "clf= KNeighborsClassifier(171) \n",
    "clf.fit(x_train, y_train)\n",
    "print(clf.score(x_train, y_train))\n",
    "print(clf.score(x_test, y_test))"
   ]
  },
  {
   "cell_type": "code",
   "execution_count": 19,
   "metadata": {},
   "outputs": [
    {
     "name": "stdout",
     "output_type": "stream",
     "text": [
      "0.6711364398256788\n",
      "0.668543845534996\n"
     ]
    }
   ],
   "source": [
    "clf= KNeighborsClassifier(172) \n",
    "clf.fit(x_train, y_train)\n",
    "print(clf.score(x_train, y_train))\n",
    "print(clf.score(x_test, y_test))"
   ]
  }
 ],
 "metadata": {
  "interpreter": {
   "hash": "ad4efc98168ab38b08e64aa2fc02055880fa9a8646a17501f53b605319231c71"
  },
  "kernelspec": {
   "display_name": "Python 3.8.8 ('base')",
   "language": "python",
   "name": "python3"
  },
  "language_info": {
   "codemirror_mode": {
    "name": "ipython",
    "version": 3
   },
   "file_extension": ".py",
   "mimetype": "text/x-python",
   "name": "python",
   "nbconvert_exporter": "python",
   "pygments_lexer": "ipython3",
   "version": "3.8.8"
  },
  "orig_nbformat": 4
 },
 "nbformat": 4,
 "nbformat_minor": 2
}
